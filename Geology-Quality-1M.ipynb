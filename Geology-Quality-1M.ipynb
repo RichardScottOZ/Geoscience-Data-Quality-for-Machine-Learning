{
 "cells": [
  {
   "cell_type": "code",
   "execution_count": 27,
   "metadata": {},
   "outputs": [],
   "source": [
    "import geopandas as gpd\n",
    "import rasterio"
   ]
  },
  {
   "cell_type": "code",
   "execution_count": 12,
   "metadata": {},
   "outputs": [],
   "source": [
    "#note you can get this at GA web services https://gaservices.ga.gov.au/site_1/rest/services/GA_Surface_Geology/MapServer/10\n",
    "lith = gpd.read_file(r'AUS_GA_1M_GUPoly_Lithology.geojson')\n",
    "faults = gpd.read_file(r'AUS_GA_1M_Faults.geojson')"
   ]
  },
  {
   "cell_type": "markdown",
   "metadata": {},
   "source": [
    "<b>Investigate for broad scale, rolled up or any useful metrics"
   ]
  },
  {
   "cell_type": "code",
   "execution_count": 5,
   "metadata": {},
   "outputs": [
    {
     "data": {
      "text/plain": [
       "Index(['objectid', 'mapsymbol', 'plotsymbol', 'stratno', 'name', 'descr',\n",
       "       'typename', 'type_uri', 'geolhist', 'repage_uri', 'yngage_uri',\n",
       "       'oldage_uri', 'lithology', 'replith_uri', 'morphology', 'obsmethod',\n",
       "       'confidence', 'source', 'metadata', 'frame', 'resscale', 'captdate',\n",
       "       'moddate', 'plotrank', 'featureid', 'geolunitid', 'st_area(shape)',\n",
       "       'st_perimeter(shape)', 'geometry'],\n",
       "      dtype='object')"
      ]
     },
     "execution_count": 5,
     "metadata": {},
     "output_type": "execute_result"
    }
   ],
   "source": [
    "lith.columns"
   ]
  },
  {
   "cell_type": "code",
   "execution_count": 6,
   "metadata": {},
   "outputs": [
    {
     "data": {
      "text/plain": [
       "synthesis of multiple published descriptions    242700\n",
       "Name: obsmethod, dtype: int64"
      ]
     },
     "execution_count": 6,
     "metadata": {},
     "output_type": "execute_result"
    }
   ],
   "source": [
    "lith.obsmethod.value_counts()"
   ]
  },
  {
   "cell_type": "code",
   "execution_count": 7,
   "metadata": {},
   "outputs": [
    {
     "data": {
      "text/plain": [
       "Series([], Name: confidence, dtype: int64)"
      ]
     },
     "execution_count": 7,
     "metadata": {},
     "output_type": "execute_result"
    }
   ],
   "source": [
    "lith.confidence.value_counts()"
   ]
  },
  {
   "cell_type": "code",
   "execution_count": 19,
   "metadata": {},
   "outputs": [
    {
     "data": {
      "text/plain": [
       "land surface    242700\n",
       "Name: frame, dtype: int64"
      ]
     },
     "execution_count": 19,
     "metadata": {},
     "output_type": "execute_result"
    }
   ],
   "source": [
    "lith.frame.value_counts()"
   ]
  },
  {
   "cell_type": "code",
   "execution_count": 16,
   "metadata": {},
   "outputs": [
    {
     "data": {
      "text/plain": [
       "http://www.ga.gov.au/metadata-gateway/metadata/record/74619/    242700\n",
       "Name: metadata, dtype: int64"
      ]
     },
     "execution_count": 16,
     "metadata": {},
     "output_type": "execute_result"
    }
   ],
   "source": [
    "lith.metadata.value_counts()"
   ]
  },
  {
   "cell_type": "code",
   "execution_count": 13,
   "metadata": {},
   "outputs": [
    {
     "data": {
      "text/plain": [
       "Index(['objectid', 'typename', 'type_uri', 'fltname', 'descr', 'exposure',\n",
       "       'faultfill', 'defrmstyle', 'defrm_uri', 'mvttype', 'mvttyp_uri',\n",
       "       'mvtsense', 'dsplcmnt', 'dip', 'dipdirn', 'width', 'geolhist',\n",
       "       'repage_uri', 'yngage_uri', 'oldage_uri', 'fltsys', 'fltsysid',\n",
       "       'obsmethod', 'confidence', 'posacc_m', 'source', 'metadata', 'frame',\n",
       "       'resscale', 'captscale', 'captdate', 'moddate', 'plotrank', 'featcode',\n",
       "       'featureid', 'faultid', 'st_length(shape)', 'geometry'],\n",
       "      dtype='object')"
      ]
     },
     "execution_count": 13,
     "metadata": {},
     "output_type": "execute_result"
    }
   ],
   "source": [
    "faults.columns"
   ]
  },
  {
   "cell_type": "code",
   "execution_count": 20,
   "metadata": {},
   "outputs": [
    {
     "data": {
      "text/plain": [
       "http://resource.geosciml.org/classifier/cgi/lithology/material_formed_in_surficial_environment    99376\n",
       "http://resource.geosciml.org/classifier/cgi/lithology/clastic_sedimentary_rock                    54845\n",
       "http://resource.geosciml.org/classifier/cgi/lithology/granitoid                                   27558\n",
       "http://resource.geosciml.org/classifier/cgi/lithology/metamorphic_rock                            15967\n",
       "http://resource.geosciml.org/classifier/cgi/lithology/basalt                                       8447\n",
       "http://resource.geosciml.org/classifier/cgi/lithology/carbonate_sedimentary_rock                   7436\n",
       "http://resource.geosciml.org/classifier/cgi/lithology/clastic_mudstone                             6412\n",
       "http://resource.geosciml.org/classifier/cgi/lithology/rhyolitoid                                   6251\n",
       "http://resource.geosciml.org/classifier/cgi/lithology/sedimentary_rock                             5324\n",
       "http://resource.geosciml.org/classifier/cgi/lithology/gabbroic_rock                                4984\n",
       "http://resource.geosciml.org/classifier/cgi/lithology/chemical_sedimentary_material                2193\n",
       "http://resource.geosciml.org/classifier/cgi/lithology/fine_grained_igneous_rock                     842\n",
       "http://resource.geosciml.org/classifier/cgi/lithology/dioritoid                                     684\n",
       "http://resource.geosciml.org/classifier/cgi/lithology/andesite                                      679\n",
       "http://resource.geosciml.org/classifier/cgi/lithology/ultramafic_igneous_rock                       591\n",
       "http://resource.geosciml.org/classifier/cgi/lithology/fault_related_material                        265\n",
       "http://resource.geosciml.org/classifier/cgi/lithology/marble                                        226\n",
       "http://resource.geosciml.org/classifier/cgi/lithology/komatiitic_rock                               155\n",
       "http://resource.geosciml.org/classifier/cgi/lithology/organic_rich_sedimentary_rock                 143\n",
       "http://resource.geosciml.org/classifier/cgi/lithology/phaneritic_igneous_rock                       130\n",
       "http://resource.geosciml.org/classifier/cgi/lithology/rock                                           76\n",
       "http://resource.geosciml.org/classifier/cgi/lithology/exotic_alkaline_rock                           36\n",
       "http://resource.geosciml.org/classifier/cgi/lithology/compound_material                              26\n",
       "http://resource.geosciml.org/classifier/cgi/lithology/igneous_rock                                   21\n",
       "http://resource.geosciml.org/classifier/cgi/lithology/anthropogenic_material                         16\n",
       "http://resource.geosciml.org/classifier/cgi/lithology/metasomatic_rock                               15\n",
       "http://resource.geosciml.org/classifier/cgi/lithology/carbonatite                                     1\n",
       "http://resource.geosciml.org/classifier/cgi/lithology/ultrabasic_igneous_rock                         1\n",
       "Name: replith_uri, dtype: int64"
      ]
     },
     "execution_count": 20,
     "metadata": {},
     "output_type": "execute_result"
    }
   ],
   "source": [
    "lith.replith_uri.value_counts()"
   ]
  },
  {
   "cell_type": "code",
   "execution_count": 15,
   "metadata": {},
   "outputs": [
    {
     "data": {
      "text/plain": [
       "250     77147\n",
       "100     15215\n",
       "500      6243\n",
       "1000     4530\n",
       "50        734\n",
       "25         83\n",
       "Name: posacc_m, dtype: int64"
      ]
     },
     "execution_count": 15,
     "metadata": {},
     "output_type": "execute_result"
    }
   ],
   "source": [
    "faults.posacc_m.value_counts()"
   ]
  },
  {
   "cell_type": "code",
   "execution_count": 22,
   "metadata": {},
   "outputs": [
    {
     "data": {
      "text/plain": [
       "synthesis of multiple published descriptions    103952\n",
       "Name: obsmethod, dtype: int64"
      ]
     },
     "execution_count": 22,
     "metadata": {},
     "output_type": "execute_result"
    }
   ],
   "source": [
    "faults.obsmethod.value_counts()"
   ]
  },
  {
   "cell_type": "code",
   "execution_count": 23,
   "metadata": {},
   "outputs": [
    {
     "data": {
      "text/plain": [
       "Series([], Name: confidence, dtype: int64)"
      ]
     },
     "execution_count": 23,
     "metadata": {},
     "output_type": "execute_result"
    }
   ],
   "source": [
    "faults.confidence.value_counts()"
   ]
  },
  {
   "cell_type": "code",
   "execution_count": 29,
   "metadata": {},
   "outputs": [
    {
     "name": "stdout",
     "output_type": "stream",
     "text": [
      "BoundingBox(left=113.0, bottom=-44.0, right=154.0, top=-10.0)\n",
      "{'driver': 'GTiff', 'dtype': 'float32', 'nodata': -3.4028234663852886e+38, 'width': 5087, 'height': 4710, 'count': 1, 'crs': CRS.from_epsg(4326), 'transform': Affine(0.008059760172989974, 0.0, 113.0,\n",
      "       0.0, -0.007218683651804671, -10.0)}\n"
     ]
    }
   ],
   "source": [
    "#make a faults by positional accuracy raster\n",
    "from rasterio.features import rasterize\n",
    "col = 'posacc_m'\n",
    "gdf = faults\n",
    "with rasterio.open(r'model_raster.tif') as src:\n",
    "    print(src.bounds)\n",
    "    print(src.meta)\n",
    "    shapes = ((geom,value) for geom, value in zip(gdf.geometry, gdf[col]))\n",
    "    \n",
    "    varray = rasterize(shapes,\n",
    "                   out_shape=(src.height, src.width),\n",
    "                   transform=src.transform,\n",
    "                   all_touched=True,\n",
    "                   dtype='float32')\n",
    "    \n",
    "    with rasterio.open('faults_1M.tif', 'w', **src.meta) as dst:\n",
    "        dst.write(varray, indexes=1)\n"
   ]
  },
  {
   "cell_type": "code",
   "execution_count": null,
   "metadata": {},
   "outputs": [],
   "source": []
  }
 ],
 "metadata": {
  "kernelspec": {
   "display_name": "Python [conda env:pygmt]",
   "language": "python",
   "name": "conda-env-pygmt-py"
  },
  "language_info": {
   "codemirror_mode": {
    "name": "ipython",
    "version": 3
   },
   "file_extension": ".py",
   "mimetype": "text/x-python",
   "name": "python",
   "nbconvert_exporter": "python",
   "pygments_lexer": "ipython3",
   "version": "3.8.6"
  }
 },
 "nbformat": 4,
 "nbformat_minor": 4
}
